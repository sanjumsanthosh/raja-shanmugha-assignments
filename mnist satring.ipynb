{
 "cells": [
  {
   "cell_type": "code",
   "execution_count": 1,
   "metadata": {},
   "outputs": [],
   "source": [
    "import tensorflow as tf\n",
    "import numpy as np"
   ]
  },
  {
   "cell_type": "code",
   "execution_count": 2,
   "metadata": {},
   "outputs": [],
   "source": [
    "x = tf.placeholder(tf.float32,name='variable_x')\n",
    "y = tf.placeholder(tf.float32,name='variable_y')\n",
    "sum_of_values = tf.add(x,y,name='sum_of_elements')"
   ]
  },
  {
   "cell_type": "code",
   "execution_count": 3,
   "metadata": {},
   "outputs": [
    {
     "data": {
      "text/plain": [
       "30.0"
      ]
     },
     "execution_count": 3,
     "metadata": {},
     "output_type": "execute_result"
    }
   ],
   "source": [
    "session = tf.Session()\n",
    "session.run(sum_of_values,{x:10,y:20})"
   ]
  },
  {
   "cell_type": "code",
   "execution_count": 4,
   "metadata": {},
   "outputs": [],
   "source": [
    "summary_write = tf.summary.FileWriter('./graphs',session.graph)"
   ]
  },
  {
   "cell_type": "code",
   "execution_count": 5,
   "metadata": {},
   "outputs": [
    {
     "name": "stderr",
     "output_type": "stream",
     "text": [
      "Using TensorFlow backend.\n"
     ]
    }
   ],
   "source": [
    "import keras"
   ]
  },
  {
   "cell_type": "code",
   "execution_count": 6,
   "metadata": {},
   "outputs": [],
   "source": [
    "from tensorflow.examples.tutorials.mnist import input_data"
   ]
  },
  {
   "cell_type": "code",
   "execution_count": 7,
   "metadata": {},
   "outputs": [
    {
     "name": "stdout",
     "output_type": "stream",
     "text": [
      "WARNING:tensorflow:From <ipython-input-7-74395f5ad6df>:1: read_data_sets (from tensorflow.contrib.learn.python.learn.datasets.mnist) is deprecated and will be removed in a future version.\n",
      "Instructions for updating:\n",
      "Please use alternatives such as official/mnist/dataset.py from tensorflow/models.\n",
      "WARNING:tensorflow:From /Users/sanjaymsanthosh/anaconda/anaconda3/lib/python3.7/site-packages/tensorflow/contrib/learn/python/learn/datasets/mnist.py:260: maybe_download (from tensorflow.contrib.learn.python.learn.datasets.base) is deprecated and will be removed in a future version.\n",
      "Instructions for updating:\n",
      "Please write your own downloading logic.\n",
      "WARNING:tensorflow:From /Users/sanjaymsanthosh/anaconda/anaconda3/lib/python3.7/site-packages/tensorflow/contrib/learn/python/learn/datasets/mnist.py:262: extract_images (from tensorflow.contrib.learn.python.learn.datasets.mnist) is deprecated and will be removed in a future version.\n",
      "Instructions for updating:\n",
      "Please use tf.data to implement this functionality.\n",
      "Extracting MNIST_data/train-images-idx3-ubyte.gz\n",
      "WARNING:tensorflow:From /Users/sanjaymsanthosh/anaconda/anaconda3/lib/python3.7/site-packages/tensorflow/contrib/learn/python/learn/datasets/mnist.py:267: extract_labels (from tensorflow.contrib.learn.python.learn.datasets.mnist) is deprecated and will be removed in a future version.\n",
      "Instructions for updating:\n",
      "Please use tf.data to implement this functionality.\n",
      "Extracting MNIST_data/train-labels-idx1-ubyte.gz\n",
      "WARNING:tensorflow:From /Users/sanjaymsanthosh/anaconda/anaconda3/lib/python3.7/site-packages/tensorflow/contrib/learn/python/learn/datasets/mnist.py:110: dense_to_one_hot (from tensorflow.contrib.learn.python.learn.datasets.mnist) is deprecated and will be removed in a future version.\n",
      "Instructions for updating:\n",
      "Please use tf.one_hot on tensors.\n",
      "Extracting MNIST_data/t10k-images-idx3-ubyte.gz\n",
      "Extracting MNIST_data/t10k-labels-idx1-ubyte.gz\n",
      "WARNING:tensorflow:From /Users/sanjaymsanthosh/anaconda/anaconda3/lib/python3.7/site-packages/tensorflow/contrib/learn/python/learn/datasets/mnist.py:290: DataSet.__init__ (from tensorflow.contrib.learn.python.learn.datasets.mnist) is deprecated and will be removed in a future version.\n",
      "Instructions for updating:\n",
      "Please use alternatives such as official/mnist/dataset.py from tensorflow/models.\n"
     ]
    }
   ],
   "source": [
    "mnist_data = input_data.read_data_sets('MNIST_data',one_hot=True)\n"
   ]
  },
  {
   "cell_type": "code",
   "execution_count": 8,
   "metadata": {},
   "outputs": [],
   "source": [
    "input_size = 784\n",
    "no_classes = 10\n",
    "batch_size = 100\n",
    "total_batch = 200\n",
    "\n",
    "x_input = tf.placeholder(tf.float32,shape=[None,input_size])\n",
    "y_input = tf.placeholder(tf.float32,shape=[None,no_classes])"
   ]
  },
  {
   "cell_type": "code",
   "execution_count": 9,
   "metadata": {},
   "outputs": [],
   "source": [
    "weights = tf.Variable(tf.random_normal([input_size,no_classes]))\n",
    "bias = tf.Variable(tf.random_normal([no_classes]))"
   ]
  },
  {
   "cell_type": "code",
   "execution_count": 15,
   "metadata": {},
   "outputs": [],
   "source": [
    "logits = tf.matmul(x_input,weights)+bias"
   ]
  },
  {
   "cell_type": "code",
   "execution_count": 11,
   "metadata": {},
   "outputs": [
    {
     "name": "stdout",
     "output_type": "stream",
     "text": [
      "WARNING:tensorflow:From <ipython-input-11-b05278c427a0>:1: softmax_cross_entropy_with_logits (from tensorflow.python.ops.nn_ops) is deprecated and will be removed in a future version.\n",
      "Instructions for updating:\n",
      "\n",
      "Future major versions of TensorFlow will allow gradients to flow\n",
      "into the labels input on backprop by default.\n",
      "\n",
      "See `tf.nn.softmax_cross_entropy_with_logits_v2`.\n",
      "\n"
     ]
    }
   ],
   "source": [
    "softmax_cross_entropy = tf.nn.softmax_cross_entropy_with_logits(labels=y_input,logits=logits)\n",
    "loss_operation = tf.reduce_mean(softmax_cross_entropy)\n",
    "optimiser = tf.train.GradientDescentOptimizer(learning_rate = 0.5).minimize(loss_operation)"
   ]
  },
  {
   "cell_type": "code",
   "execution_count": 12,
   "metadata": {},
   "outputs": [],
   "source": [
    "session = tf.Session()\n",
    "session.run(tf.global_variables_initializer())"
   ]
  },
  {
   "cell_type": "code",
   "execution_count": 13,
   "metadata": {},
   "outputs": [
    {
     "name": "stdout",
     "output_type": "stream",
     "text": [
      "16.908754\n",
      "9.844624\n",
      "10.180988\n",
      "8.232746\n",
      "7.6714826\n",
      "6.6716504\n",
      "6.99539\n",
      "6.15121\n",
      "6.877112\n",
      "5.2880116\n",
      "5.1790233\n",
      "4.803814\n",
      "5.126774\n",
      "4.1009026\n",
      "4.278201\n",
      "4.252252\n",
      "4.3255715\n",
      "3.8771577\n",
      "4.393831\n",
      "3.0353906\n",
      "3.9217463\n",
      "2.9122016\n",
      "2.4527328\n",
      "3.3751001\n",
      "2.6089075\n",
      "3.2826867\n",
      "2.8862963\n",
      "2.642476\n",
      "3.1106708\n",
      "2.9799695\n",
      "2.9145849\n",
      "3.344638\n",
      "2.4918969\n",
      "3.604151\n",
      "3.0650744\n",
      "2.2408743\n",
      "2.7971892\n",
      "1.801784\n",
      "2.3826966\n",
      "2.2851343\n",
      "2.4974847\n",
      "1.281155\n",
      "2.3747985\n",
      "3.0194006\n",
      "2.065215\n",
      "2.2410953\n",
      "2.5240061\n",
      "1.992667\n",
      "2.3430657\n",
      "2.3379169\n",
      "1.9434053\n",
      "1.9732744\n",
      "2.0592833\n",
      "2.255809\n",
      "1.7971762\n",
      "2.1118515\n",
      "2.0644715\n",
      "2.3410928\n",
      "1.834463\n",
      "2.8480859\n",
      "2.078393\n",
      "1.9954878\n",
      "2.2707713\n",
      "2.111528\n",
      "2.2325232\n",
      "1.7859383\n",
      "1.5168811\n",
      "2.2254105\n",
      "1.3975204\n",
      "1.9749091\n",
      "1.147566\n",
      "1.735429\n",
      "1.5390359\n",
      "1.4954764\n",
      "1.3140428\n",
      "1.476799\n",
      "1.5928365\n",
      "1.5231521\n",
      "1.686641\n",
      "1.6475415\n",
      "1.713464\n",
      "1.9794364\n",
      "1.49652\n",
      "1.4897742\n",
      "1.4983454\n",
      "1.4757047\n",
      "2.273806\n",
      "0.93545985\n",
      "1.804373\n",
      "1.2262877\n",
      "1.5583081\n",
      "1.9959357\n",
      "1.4946136\n",
      "1.4800239\n",
      "1.8380117\n",
      "1.2882506\n",
      "1.7684549\n",
      "1.2219251\n",
      "1.4725248\n",
      "1.657027\n",
      "0.82888967\n",
      "1.4656409\n",
      "1.9614481\n",
      "1.4540164\n",
      "1.5055646\n",
      "2.1231825\n",
      "1.3275902\n",
      "2.160055\n",
      "1.9211518\n",
      "1.6076263\n",
      "1.6028583\n",
      "0.67676616\n",
      "1.0963929\n",
      "2.069897\n",
      "1.4059361\n",
      "1.6880089\n",
      "2.4249713\n",
      "1.1162097\n",
      "1.2767874\n",
      "1.6809088\n",
      "1.5410844\n",
      "0.7705473\n",
      "1.8778714\n",
      "0.9771466\n",
      "1.540401\n",
      "1.3385298\n",
      "1.3890017\n",
      "0.8996653\n",
      "1.5450253\n",
      "1.3170657\n",
      "1.2172054\n",
      "0.7438902\n",
      "1.3605798\n",
      "1.390711\n",
      "1.5903686\n",
      "1.7072959\n",
      "1.669925\n",
      "1.7352365\n",
      "1.5836501\n",
      "1.1019082\n",
      "1.5857342\n",
      "1.3576455\n",
      "0.87964165\n",
      "1.0954596\n",
      "1.2216474\n",
      "1.3766135\n",
      "1.4912921\n",
      "0.79533225\n",
      "1.1662732\n",
      "1.3259274\n",
      "1.3998423\n",
      "1.2036054\n",
      "1.095112\n",
      "1.0541413\n",
      "1.122807\n",
      "1.7551934\n",
      "0.7875781\n",
      "1.3481576\n",
      "1.3249488\n",
      "1.1330839\n",
      "2.121184\n",
      "0.77781606\n",
      "0.9077318\n",
      "0.92765784\n",
      "1.0263654\n",
      "1.3182671\n",
      "0.9338717\n",
      "0.9279936\n",
      "1.5506252\n",
      "0.7828554\n",
      "1.0472034\n",
      "0.87606186\n",
      "1.1857374\n",
      "1.0956514\n",
      "1.1933806\n",
      "1.3237603\n",
      "1.145482\n",
      "1.3520181\n",
      "1.8087099\n",
      "1.1008419\n",
      "1.3479493\n",
      "0.92087674\n",
      "0.8720831\n",
      "1.2943311\n",
      "2.2307725\n",
      "1.190395\n",
      "0.91976476\n",
      "1.2438468\n",
      "1.1291547\n",
      "0.9504895\n",
      "1.309925\n",
      "0.9902695\n",
      "1.6050807\n",
      "1.0871848\n",
      "1.1538284\n",
      "1.1949092\n",
      "1.4810196\n",
      "0.76952535\n",
      "1.3894935\n",
      "0.876422\n"
     ]
    }
   ],
   "source": [
    "for branch_number in range(total_batch):\n",
    "    mnist_batch = mnist_data.train.next_batch(batch_size)\n",
    "    _,loss_value = session.run([optimiser,loss_operation],feed_dict={x_input:mnist_batch[0],y_input:mnist_batch[1]})\n",
    "    print(loss_value)\n",
    "    "
   ]
  },
  {
   "cell_type": "code",
   "execution_count": 14,
   "metadata": {},
   "outputs": [
    {
     "name": "stdout",
     "output_type": "stream",
     "text": [
      "Accuracy :  0.802\n"
     ]
    }
   ],
   "source": [
    "predictions = tf.math.argmax(logits,1)\n",
    "correct_predictions = tf.equal(predictions,tf.math.argmax(y_input,1))\n",
    "accuracy_operation = tf.reduce_mean(tf.cast(correct_predictions,tf.float32))\n",
    "test_images,test_labels = mnist_data.test.images,mnist_data.test.labels\n",
    "accuracy_value = session.run(accuracy_operation,feed_dict={\n",
    "    x_input : test_images,\n",
    "    y_input : test_labels\n",
    "})\n",
    "print('Accuracy : ',accuracy_value)\n",
    "session.close()\n",
    "\n"
   ]
  },
  {
   "cell_type": "code",
   "execution_count": null,
   "metadata": {},
   "outputs": [],
   "source": []
  },
  {
   "cell_type": "code",
   "execution_count": null,
   "metadata": {},
   "outputs": [],
   "source": []
  }
 ],
 "metadata": {
  "kernelspec": {
   "display_name": "Python 3",
   "language": "python",
   "name": "python3"
  },
  "language_info": {
   "codemirror_mode": {
    "name": "ipython",
    "version": 3
   },
   "file_extension": ".py",
   "mimetype": "text/x-python",
   "name": "python",
   "nbconvert_exporter": "python",
   "pygments_lexer": "ipython3",
   "version": "3.7.3"
  }
 },
 "nbformat": 4,
 "nbformat_minor": 2
}
