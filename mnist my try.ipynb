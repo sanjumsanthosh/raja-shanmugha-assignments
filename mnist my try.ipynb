{
 "cells": [
  {
   "cell_type": "code",
   "execution_count": 70,
   "metadata": {},
   "outputs": [],
   "source": [
    "import tensorflow as tf\n",
    "from tensorflow.examples.tutorials.mnist import input_data\n"
   ]
  },
  {
   "cell_type": "code",
   "execution_count": 71,
   "metadata": {},
   "outputs": [
    {
     "name": "stdout",
     "output_type": "stream",
     "text": [
      "Extracting MNIST_DATA/train-images-idx3-ubyte.gz\n",
      "Extracting MNIST_DATA/train-labels-idx1-ubyte.gz\n",
      "Extracting MNIST_DATA/t10k-images-idx3-ubyte.gz\n",
      "Extracting MNIST_DATA/t10k-labels-idx1-ubyte.gz\n"
     ]
    }
   ],
   "source": [
    "mnist_data = input_data.read_data_sets('MNIST_DATA',one_hot=True)"
   ]
  },
  {
   "cell_type": "code",
   "execution_count": 72,
   "metadata": {},
   "outputs": [],
   "source": [
    "data_inpu_size = 784\n",
    "data_class_size = 10\n",
    "\n",
    "batch_size = 100\n",
    "total_batches = 200\n"
   ]
  },
  {
   "cell_type": "code",
   "execution_count": 73,
   "metadata": {},
   "outputs": [],
   "source": [
    "x_data = tf.placeholder(tf.float32,shape=[None,data_inpu_size],name='x_data')\n",
    "y_data = tf.placeholder(tf.float32,shape=[None,data_class_size],name='y_data')\n",
    "weights = tf.Variable(tf.random_normal([data_inpu_size,data_class_size]),name='weights')\n",
    "bias = tf.Variable(tf.random_normal([data_class_size]),name='bias')\n",
    "logits = tf.matmul(x_data,weights)+bias\n"
   ]
  },
  {
   "cell_type": "code",
   "execution_count": 74,
   "metadata": {},
   "outputs": [],
   "source": [
    "softmax_cross_entropy = tf.nn.softmax_cross_entropy_with_logits(labels=y_data,logits=logits,name='softmax1')\n",
    "loss_operation = tf.reduce_mean(softmax_cross_entropy,name='loss_operation')\n",
    "optimizer = tf.train.GradientDescentOptimizer(learning_rate=0.5,name='optiimizer').minimize(loss_operation,name='minimizer')"
   ]
  },
  {
   "cell_type": "code",
   "execution_count": 75,
   "metadata": {},
   "outputs": [],
   "source": [
    "session = tf.Session()\n",
    "session.run(tf.global_variables_initializer())"
   ]
  },
  {
   "cell_type": "code",
   "execution_count": 76,
   "metadata": {},
   "outputs": [
    {
     "name": "stdout",
     "output_type": "stream",
     "text": [
      "15.600448\n",
      "12.552803\n",
      "10.166764\n",
      "10.3006735\n",
      "9.665979\n",
      "8.110286\n",
      "8.441869\n",
      "7.37698\n",
      "6.997705\n",
      "5.9512453\n",
      "5.4206457\n",
      "6.0201178\n",
      "5.031737\n",
      "5.593976\n",
      "5.296336\n",
      "4.0033684\n",
      "4.364557\n",
      "3.4375641\n",
      "4.9535933\n",
      "4.088554\n",
      "3.6761854\n",
      "3.9028502\n",
      "3.5191703\n",
      "3.477127\n",
      "4.194777\n",
      "3.2025764\n",
      "3.4844525\n",
      "3.1099637\n",
      "3.146761\n",
      "3.4605248\n",
      "3.768324\n",
      "2.503419\n",
      "2.231597\n",
      "3.5261834\n",
      "2.2028341\n",
      "2.3566778\n",
      "3.109785\n",
      "2.566124\n",
      "1.997731\n",
      "2.0904665\n",
      "2.692406\n",
      "1.6964145\n",
      "2.1707656\n",
      "2.774792\n",
      "1.9468634\n",
      "2.4363427\n",
      "2.3420036\n",
      "2.1794915\n",
      "1.9406766\n",
      "1.9422271\n",
      "1.712224\n",
      "2.2104957\n",
      "1.9446068\n",
      "1.9343604\n",
      "2.1311326\n",
      "1.7339264\n",
      "1.9267813\n",
      "1.9385959\n",
      "2.0081024\n",
      "1.5809461\n",
      "2.3091812\n",
      "1.5874258\n",
      "1.89547\n",
      "1.3729559\n",
      "1.803547\n",
      "1.6703874\n",
      "1.8753712\n",
      "2.0048842\n",
      "1.5863403\n",
      "1.2475553\n",
      "1.6964312\n",
      "2.0902839\n",
      "1.4355927\n",
      "1.8864249\n",
      "1.9951422\n",
      "1.3291703\n",
      "1.1985371\n",
      "1.680226\n",
      "1.7595421\n",
      "1.0884438\n",
      "1.4504389\n",
      "1.3906469\n",
      "1.6460348\n",
      "2.0083191\n",
      "1.278852\n",
      "1.7306012\n",
      "1.013848\n",
      "1.5009395\n",
      "1.6928171\n",
      "1.1985946\n",
      "2.0543342\n",
      "1.8384066\n",
      "1.7316655\n",
      "1.5738101\n",
      "1.4294062\n",
      "1.2552047\n",
      "1.6982886\n",
      "1.8155065\n",
      "1.7794137\n",
      "1.0055737\n",
      "1.3094808\n",
      "1.5262254\n",
      "1.3522656\n",
      "1.6069055\n",
      "1.2285844\n",
      "1.450763\n",
      "1.5707457\n",
      "1.1440903\n",
      "1.5535519\n",
      "1.4286472\n",
      "1.3117468\n",
      "1.0012637\n",
      "1.2262155\n",
      "1.7689301\n",
      "1.6446338\n",
      "1.0912564\n",
      "1.5001651\n",
      "1.5960855\n",
      "1.2960565\n",
      "0.8465165\n",
      "1.571503\n",
      "1.091423\n",
      "2.7206864\n",
      "0.78731173\n",
      "1.1828034\n",
      "1.2442257\n",
      "1.7987372\n",
      "1.375121\n",
      "1.461857\n",
      "0.55341005\n",
      "1.1776136\n",
      "0.8343462\n",
      "1.4105307\n",
      "0.94943666\n",
      "0.61533594\n",
      "1.2006552\n",
      "0.92686814\n",
      "0.79594284\n",
      "1.458536\n",
      "1.212023\n",
      "0.7631118\n",
      "1.6191924\n",
      "1.7629548\n",
      "1.0750948\n",
      "0.8264136\n",
      "1.0807533\n",
      "0.7992712\n",
      "0.7576852\n",
      "1.0621499\n",
      "1.3684088\n",
      "1.1250467\n",
      "0.973863\n",
      "0.92427224\n",
      "1.3848381\n",
      "1.2913268\n",
      "1.241043\n",
      "1.4799991\n",
      "1.1254675\n",
      "0.98753464\n",
      "1.54776\n",
      "0.9246161\n",
      "0.92817605\n",
      "1.0935779\n",
      "1.1882733\n",
      "1.6784885\n",
      "1.080498\n",
      "0.73412377\n",
      "0.91456556\n",
      "1.4856149\n",
      "0.76711184\n",
      "1.2264928\n",
      "1.1736947\n",
      "1.0573587\n",
      "1.443814\n",
      "1.2549742\n",
      "1.800616\n",
      "0.82761216\n",
      "1.298183\n",
      "0.88129807\n",
      "1.4690875\n",
      "1.0899642\n",
      "0.7724231\n",
      "1.1911426\n",
      "0.7429094\n",
      "1.5061004\n",
      "1.5872443\n",
      "1.296819\n",
      "1.8661057\n",
      "1.2678177\n",
      "0.6585105\n",
      "1.079659\n",
      "0.9393172\n",
      "0.98196924\n",
      "1.2847\n",
      "1.113317\n",
      "0.83597094\n",
      "1.1236557\n",
      "1.1576934\n",
      "1.0189118\n",
      "0.8705196\n"
     ]
    }
   ],
   "source": [
    "for batch_number in range (total_batches):\n",
    "    mnist_batch = mnist_data.train.next_batch(batch_size)\n",
    "    _,losses = session.run([optimizer,loss_operation],feed_dict={\n",
    "        x_data : mnist_batch[0],\n",
    "        y_data :mnist_batch[1]\n",
    "    })\n",
    "    print(losses)"
   ]
  },
  {
   "cell_type": "code",
   "execution_count": 77,
   "metadata": {},
   "outputs": [
    {
     "data": {
      "text/plain": [
       "0.8134"
      ]
     },
     "execution_count": 77,
     "metadata": {},
     "output_type": "execute_result"
    }
   ],
   "source": [
    "prediction = tf.arg_max(logits,1)\n",
    "\n",
    "mnist_data_for_testing = mnist_data.test\n",
    "correct_prediction = tf.equal(prediction , tf.arg_max(y_data,1))\n",
    "accuracy = tf.reduce_mean(tf.cast(correct_prediction,tf.float32))\n",
    "\n",
    "session.run(accuracy,feed_dict={\n",
    "    x_data : mnist_data_for_testing.images,\n",
    "    y_data : mnist_data_for_testing.labels\n",
    "})"
   ]
  },
  {
   "cell_type": "code",
   "execution_count": 78,
   "metadata": {},
   "outputs": [
    {
     "data": {
      "text/plain": [
       "<tensorflow.python.summary.writer.writer.FileWriter at 0x1c4570a048>"
      ]
     },
     "execution_count": 78,
     "metadata": {},
     "output_type": "execute_result"
    }
   ],
   "source": [
    "tf.summary.FileWriter('./graphs/log',session.graph)"
   ]
  }
 ],
 "metadata": {
  "kernelspec": {
   "display_name": "Python 3",
   "language": "python",
   "name": "python3"
  },
  "language_info": {
   "codemirror_mode": {
    "name": "ipython",
    "version": 3
   },
   "file_extension": ".py",
   "mimetype": "text/x-python",
   "name": "python",
   "nbconvert_exporter": "python",
   "pygments_lexer": "ipython3",
   "version": "3.7.3"
  }
 },
 "nbformat": 4,
 "nbformat_minor": 2
}
